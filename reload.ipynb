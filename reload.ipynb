{
 "cells": [
  {
   "cell_type": "markdown",
   "metadata": {},
   "source": [
    "# Reset\n",
    "\n",
    "This will reset the environment back to before running the ingestion. Be careful, if this deletes any needed data you may need to revert back to a previous commit."
   ]
  },
  {
   "cell_type": "code",
   "execution_count": 21,
   "metadata": {},
   "outputs": [],
   "source": [
    "import os\n",
    "import shutil"
   ]
  },
  {
   "cell_type": "code",
   "execution_count": 22,
   "metadata": {},
   "outputs": [
    {
     "name": "stdout",
     "output_type": "stream",
     "text": [
      "Moved customer_20241009.csv to landing_zone\n",
      "Moved customer_20241010.csv to landing_zone\n",
      "Moved customer_20241011.csv to landing_zone\n",
      "Moved customer_20241012.csv to landing_zone\n",
      "Moved customer_20241013.csv to landing_zone\n",
      "Moved customer_20241014.csv to landing_zone\n",
      "Moved customer_20241015.csv to landing_zone\n",
      "Moved customer_20241016.csv to landing_zone\n",
      "Moved products_20241009.json to landing_zone\n",
      "Moved products_20241010.json to landing_zone\n",
      "Moved products_20241011.json to landing_zone\n",
      "Moved products_20241012.json to landing_zone\n",
      "Moved products_20241013.json to landing_zone\n",
      "Moved products_20241014.json to landing_zone\n",
      "Moved products_20241015.json to landing_zone\n",
      "Moved products_20241016.json to landing_zone\n",
      "Moved sales_20241009.txt to landing_zone\n",
      "Moved sales_20241010.txt to landing_zone\n",
      "Moved sales_20241011.txt to landing_zone\n",
      "Moved sales_20241012.txt to landing_zone\n",
      "Moved sales_20241013.txt to landing_zone\n",
      "Moved sales_20241014.txt to landing_zone\n",
      "Moved sales_20241015.txt to landing_zone\n",
      "Moved sales_20241016.txt to landing_zone\n"
     ]
    }
   ],
   "source": [
    "# move all files to ./landing_zone\n",
    "for subfolder in os.listdir('./data/'):\n",
    "    for file in os.listdir(f'./data/{subfolder}'):\n",
    "        shutil.move(f'./data/{subfolder}/{file}', './landing_zone')\n",
    "        print(f'Moved {file} to landing_zone')\n",
    "\n",
    "# delete the watermark file and the data folder\n",
    "try:\n",
    "    os.remove('./watermark.parquet')\n",
    "except FileNotFoundError:\n",
    "    pass\n",
    "shutil.rmtree('./data', ignore_errors=True)\n",
    "shutil.rmtree('./final_data/', ignore_errors=True)"
   ]
  }
 ],
 "metadata": {
  "kernelspec": {
   "display_name": "base",
   "language": "python",
   "name": "python3"
  },
  "language_info": {
   "codemirror_mode": {
    "name": "ipython",
    "version": 3
   },
   "file_extension": ".py",
   "mimetype": "text/x-python",
   "name": "python",
   "nbconvert_exporter": "python",
   "pygments_lexer": "ipython3",
   "version": "3.12.7"
  },
  "orig_nbformat": 4
 },
 "nbformat": 4,
 "nbformat_minor": 2
}
